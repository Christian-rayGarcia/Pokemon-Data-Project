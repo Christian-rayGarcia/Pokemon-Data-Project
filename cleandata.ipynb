{
 "cells": [
  {
   "cell_type": "code",
   "execution_count": 13,
   "id": "initial_id",
   "metadata": {
    "collapsed": true,
    "ExecuteTime": {
     "end_time": "2024-06-29T17:40:55.113331Z",
     "start_time": "2024-06-29T17:40:55.111721Z"
    }
   },
   "outputs": [],
   "source": [
    "from pyspark.sql import SparkSession"
   ]
  },
  {
   "cell_type": "code",
   "outputs": [],
   "source": [
    "spark = (SparkSession.builder\n",
    "         .appName(\"CleanData\")\n",
    "         .getOrCreate())"
   ],
   "metadata": {
    "collapsed": false,
    "ExecuteTime": {
     "end_time": "2024-06-29T17:40:55.145983Z",
     "start_time": "2024-06-29T17:40:55.129159Z"
    }
   },
   "id": "9bac70d31271fe76",
   "execution_count": 14
  },
  {
   "cell_type": "code",
   "outputs": [],
   "source": [
    "df = spark.read.csv(\"pokemon_base_data.csv\")"
   ],
   "metadata": {
    "collapsed": false,
    "ExecuteTime": {
     "end_time": "2024-06-29T17:40:55.425630Z",
     "start_time": "2024-06-29T17:40:55.147080Z"
    }
   },
   "id": "80b9b126bfd81668",
   "execution_count": 15
  },
  {
   "cell_type": "code",
   "outputs": [
    {
     "name": "stdout",
     "output_type": "stream",
     "text": [
      "+-----+----------+-------------+\n",
      "|  _c0|       _c1|          _c2|\n",
      "+-----+----------+-------------+\n",
      "|Index|      Name|         Type|\n",
      "|    1| bulbasaur| grass poison|\n",
      "|    2|   ivysaur| grass poison|\n",
      "|    3|  venusaur| grass poison|\n",
      "|    4|charmander|         fire|\n",
      "|    5|charmeleon|         fire|\n",
      "|    6| charizard|  fire flying|\n",
      "|    7|  squirtle|        water|\n",
      "|    8| wartortle|        water|\n",
      "|    9| blastoise|        water|\n",
      "|   10|  caterpie|          bug|\n",
      "|   11|   metapod|          bug|\n",
      "|   12|butterfree|   bug flying|\n",
      "|   13|    weedle|   bug poison|\n",
      "|   14|    kakuna|   bug poison|\n",
      "|   15|  beedrill|   bug poison|\n",
      "|   16|    pidgey|normal flying|\n",
      "|   17| pidgeotto|normal flying|\n",
      "|   18|   pidgeot|normal flying|\n",
      "|   19|   rattata|       normal|\n",
      "+-----+----------+-------------+\n"
     ]
    }
   ],
   "source": [
    "df.show()"
   ],
   "metadata": {
    "collapsed": false,
    "ExecuteTime": {
     "end_time": "2024-06-29T17:40:55.644030Z",
     "start_time": "2024-06-29T17:40:55.426386Z"
    }
   },
   "id": "2e7430628d9bf82b",
   "execution_count": 16
  },
  {
   "cell_type": "code",
   "outputs": [
    {
     "name": "stdout",
     "output_type": "stream",
     "text": [
      "root\n",
      " |-- _c0: string (nullable = true)\n",
      " |-- _c1: string (nullable = true)\n",
      " |-- _c2: string (nullable = true)\n"
     ]
    }
   ],
   "source": [
    "df.printSchema()"
   ],
   "metadata": {
    "collapsed": false,
    "ExecuteTime": {
     "end_time": "2024-06-29T17:40:55.648714Z",
     "start_time": "2024-06-29T17:40:55.645539Z"
    }
   },
   "id": "a5b189f66e9e82cf",
   "execution_count": 17
  },
  {
   "cell_type": "code",
   "outputs": [],
   "source": [
    "df = df.withColumnRenamed(\"_c0\",\"Index\")\n",
    "df = df.withColumnRenamed(\"_c1\",\"Name\") \n",
    "df = df.withColumnRenamed(\"_c2\",\"Type\") \n"
   ],
   "metadata": {
    "collapsed": false,
    "ExecuteTime": {
     "end_time": "2024-06-29T17:40:55.693472Z",
     "start_time": "2024-06-29T17:40:55.649225Z"
    }
   },
   "id": "5f9acc16fa5a45c4",
   "execution_count": 18
  },
  {
   "cell_type": "code",
   "outputs": [
    {
     "name": "stdout",
     "output_type": "stream",
     "text": [
      "+-----+----------+-------------+\n",
      "|Index|      Name|         Type|\n",
      "+-----+----------+-------------+\n",
      "|Index|      Name|         Type|\n",
      "|    1| bulbasaur| grass poison|\n",
      "|    2|   ivysaur| grass poison|\n",
      "|    3|  venusaur| grass poison|\n",
      "|    4|charmander|         fire|\n",
      "|    5|charmeleon|         fire|\n",
      "|    6| charizard|  fire flying|\n",
      "|    7|  squirtle|        water|\n",
      "|    8| wartortle|        water|\n",
      "|    9| blastoise|        water|\n",
      "|   10|  caterpie|          bug|\n",
      "|   11|   metapod|          bug|\n",
      "|   12|butterfree|   bug flying|\n",
      "|   13|    weedle|   bug poison|\n",
      "|   14|    kakuna|   bug poison|\n",
      "|   15|  beedrill|   bug poison|\n",
      "|   16|    pidgey|normal flying|\n",
      "|   17| pidgeotto|normal flying|\n",
      "|   18|   pidgeot|normal flying|\n",
      "|   19|   rattata|       normal|\n",
      "+-----+----------+-------------+\n"
     ]
    }
   ],
   "source": [
    "df.show()"
   ],
   "metadata": {
    "collapsed": false,
    "ExecuteTime": {
     "end_time": "2024-06-29T17:40:55.833875Z",
     "start_time": "2024-06-29T17:40:55.694160Z"
    }
   },
   "id": "a7a79cdb081101a0",
   "execution_count": 19
  },
  {
   "cell_type": "markdown",
   "source": [
    "Splitting the type column"
   ],
   "metadata": {
    "collapsed": false
   },
   "id": "dca5a85318a702cb"
  },
  {
   "cell_type": "code",
   "outputs": [],
   "source": [
    "\n",
    "from pyspark.sql.functions import split\n",
    "\n",
    "#split the values column based on the space delimiter\n",
    "split_col = split(df['type'], ' ')\n",
    "\n",
    "#adding the split columns to the data frame\n",
    "df = df.withColumn('Type1', split_col.getItem(0))\n",
    "df = df.withColumn('Type2', split_col.getItem(1))"
   ],
   "metadata": {
    "collapsed": false,
    "ExecuteTime": {
     "end_time": "2024-06-29T17:41:59.135696Z",
     "start_time": "2024-06-29T17:41:59.097709Z"
    }
   },
   "id": "c8ace15cea4d50f3",
   "execution_count": 24
  },
  {
   "cell_type": "code",
   "outputs": [
    {
     "name": "stdout",
     "output_type": "stream",
     "text": [
      "+-----+----------+-------------+------+------+\n",
      "|Index|      Name|         Type| Type1| Type2|\n",
      "+-----+----------+-------------+------+------+\n",
      "|Index|      Name|         Type|  Type|  NULL|\n",
      "|    1| bulbasaur| grass poison| grass|poison|\n",
      "|    2|   ivysaur| grass poison| grass|poison|\n",
      "|    3|  venusaur| grass poison| grass|poison|\n",
      "|    4|charmander|         fire|  fire|  NULL|\n",
      "|    5|charmeleon|         fire|  fire|  NULL|\n",
      "|    6| charizard|  fire flying|  fire|flying|\n",
      "|    7|  squirtle|        water| water|  NULL|\n",
      "|    8| wartortle|        water| water|  NULL|\n",
      "|    9| blastoise|        water| water|  NULL|\n",
      "|   10|  caterpie|          bug|   bug|  NULL|\n",
      "|   11|   metapod|          bug|   bug|  NULL|\n",
      "|   12|butterfree|   bug flying|   bug|flying|\n",
      "|   13|    weedle|   bug poison|   bug|poison|\n",
      "|   14|    kakuna|   bug poison|   bug|poison|\n",
      "|   15|  beedrill|   bug poison|   bug|poison|\n",
      "|   16|    pidgey|normal flying|normal|flying|\n",
      "|   17| pidgeotto|normal flying|normal|flying|\n",
      "|   18|   pidgeot|normal flying|normal|flying|\n",
      "|   19|   rattata|       normal|normal|  NULL|\n",
      "+-----+----------+-------------+------+------+\n"
     ]
    }
   ],
   "source": [
    "df.show()"
   ],
   "metadata": {
    "collapsed": false,
    "ExecuteTime": {
     "end_time": "2024-06-29T17:42:00.305019Z",
     "start_time": "2024-06-29T17:42:00.053099Z"
    }
   },
   "id": "8eb5d8d5a333030d",
   "execution_count": 25
  },
  {
   "cell_type": "code",
   "outputs": [],
   "source": [
    "df2 = spark.read.csv(\"pokemon_stats_data.csv\")"
   ],
   "metadata": {
    "collapsed": false,
    "ExecuteTime": {
     "end_time": "2024-06-29T17:46:27.597574Z",
     "start_time": "2024-06-29T17:46:27.128234Z"
    }
   },
   "id": "b8164ee4059a2cc8",
   "execution_count": 28
  },
  {
   "cell_type": "code",
   "outputs": [
    {
     "name": "stdout",
     "output_type": "stream",
     "text": [
      "+-----+---+-----+-------+------+-------+-------+\n",
      "|  _c0|_c1|  _c2|    _c3|   _c4|    _c5|    _c6|\n",
      "+-----+---+-----+-------+------+-------+-------+\n",
      "|Index| hp|speed|defense|attack|Sp. Atk|Sp. Def|\n",
      "|    1| 45|   49|     49|    65|     65|     45|\n",
      "|    2| 60|   62|     63|    80|     80|     60|\n",
      "|    3| 80|   82|     83|   100|    100|     80|\n",
      "|    4| 39|   52|     43|    60|     50|     65|\n",
      "|    5| 58|   64|     58|    80|     65|     80|\n",
      "|    6| 78|   84|     78|   109|     85|    100|\n",
      "|    7| 44|   48|     65|    50|     64|     43|\n",
      "|    8| 59|   63|     80|    65|     80|     58|\n",
      "|    9| 79|   83|    100|    85|    105|     78|\n",
      "|   10| 45|   30|     35|    20|     20|     45|\n",
      "|   11| 50|   20|     55|    25|     25|     30|\n",
      "|   12| 60|   45|     50|    90|     80|     70|\n",
      "|   13| 40|   35|     30|    20|     20|     50|\n",
      "|   14| 45|   25|     50|    25|     25|     35|\n",
      "|   15| 65|   90|     40|    45|     80|     75|\n",
      "|   16| 40|   45|     40|    35|     35|     56|\n",
      "|   17| 63|   60|     55|    50|     50|     71|\n",
      "|   18| 83|   80|     75|    70|     70|    101|\n",
      "|   19| 30|   56|     35|    25|     35|     72|\n",
      "+-----+---+-----+-------+------+-------+-------+\n"
     ]
    }
   ],
   "source": [
    "df2.show()"
   ],
   "metadata": {
    "collapsed": false,
    "ExecuteTime": {
     "end_time": "2024-06-29T17:46:38.854926Z",
     "start_time": "2024-06-29T17:46:38.500872Z"
    }
   },
   "id": "850420f83e8781b1",
   "execution_count": 29
  },
  {
   "cell_type": "code",
   "outputs": [],
   "source": [
    "df2 = df2.withColumnRenamed(\"_c0\",\"Index\")\n",
    "df2 = df2.withColumnRenamed(\"_c1\",\"Hp\") \n",
    "df2 = df2.withColumnRenamed(\"_c2\",\"Speed\")\n",
    "df2 = df2.withColumnRenamed(\"_c3\",\"Defence\") \n",
    "df2 = df2.withColumnRenamed(\"_c4\",\"Attack\")\n",
    "df2 = df2.withColumnRenamed(\"_c5\",\"Sp. Attack\") \n",
    "df2 = df2.withColumnRenamed(\"_c6\",\"Sp. Defence\")"
   ],
   "metadata": {
    "collapsed": false,
    "ExecuteTime": {
     "end_time": "2024-06-29T17:49:14.663984Z",
     "start_time": "2024-06-29T17:49:14.566484Z"
    }
   },
   "id": "26ff363c17f5699d",
   "execution_count": 30
  },
  {
   "cell_type": "code",
   "outputs": [
    {
     "name": "stdout",
     "output_type": "stream",
     "text": [
      "+-----+---+-----+-------+------+----------+-----------+\n",
      "|Index| Hp|Speed|Defence|Attack|Sp. Attack|Sp. Defence|\n",
      "+-----+---+-----+-------+------+----------+-----------+\n",
      "|Index| hp|speed|defense|attack|   Sp. Atk|    Sp. Def|\n",
      "|    1| 45|   49|     49|    65|        65|         45|\n",
      "|    2| 60|   62|     63|    80|        80|         60|\n",
      "|    3| 80|   82|     83|   100|       100|         80|\n",
      "|    4| 39|   52|     43|    60|        50|         65|\n",
      "|    5| 58|   64|     58|    80|        65|         80|\n",
      "|    6| 78|   84|     78|   109|        85|        100|\n",
      "|    7| 44|   48|     65|    50|        64|         43|\n",
      "|    8| 59|   63|     80|    65|        80|         58|\n",
      "|    9| 79|   83|    100|    85|       105|         78|\n",
      "|   10| 45|   30|     35|    20|        20|         45|\n",
      "|   11| 50|   20|     55|    25|        25|         30|\n",
      "|   12| 60|   45|     50|    90|        80|         70|\n",
      "|   13| 40|   35|     30|    20|        20|         50|\n",
      "|   14| 45|   25|     50|    25|        25|         35|\n",
      "|   15| 65|   90|     40|    45|        80|         75|\n",
      "|   16| 40|   45|     40|    35|        35|         56|\n",
      "|   17| 63|   60|     55|    50|        50|         71|\n",
      "|   18| 83|   80|     75|    70|        70|        101|\n",
      "|   19| 30|   56|     35|    25|        35|         72|\n",
      "+-----+---+-----+-------+------+----------+-----------+\n"
     ]
    }
   ],
   "source": [
    "df2.show()"
   ],
   "metadata": {
    "collapsed": false,
    "ExecuteTime": {
     "end_time": "2024-06-29T17:49:20.930827Z",
     "start_time": "2024-06-29T17:49:20.574681Z"
    }
   },
   "id": "3ae45290e9d4d1cf",
   "execution_count": 31
  },
  {
   "cell_type": "code",
   "outputs": [],
   "source": [],
   "metadata": {
    "collapsed": false
   },
   "id": "6ef1c84ad706efd4"
  }
 ],
 "metadata": {
  "kernelspec": {
   "display_name": "Python 3",
   "language": "python",
   "name": "python3"
  },
  "language_info": {
   "codemirror_mode": {
    "name": "ipython",
    "version": 2
   },
   "file_extension": ".py",
   "mimetype": "text/x-python",
   "name": "python",
   "nbconvert_exporter": "python",
   "pygments_lexer": "ipython2",
   "version": "2.7.6"
  }
 },
 "nbformat": 4,
 "nbformat_minor": 5
}
